{
 "cells": [
  {
   "cell_type": "markdown",
   "metadata": {},
   "source": [
    "![slide1](https://fowlerj9.github.io/esri-jay-img/Navigator%20for%20ArcGIS%20-%20Raleigh%202020/Slide1.PNG)\n",
    "\n",
    "---\n",
    "\n",
    "![slide2](https://fowlerj9.github.io/esri-jay-img/Navigator%20for%20ArcGIS%20-%20Raleigh%202020/Slide2.PNG)\n",
    "\n",
    "---\n",
    "\n",
    "![slide3](https://fowlerj9.github.io/esri-jay-img/Navigator%20for%20ArcGIS%20-%20Raleigh%202020/Slide3.PNG)\n",
    "\n",
    "---\n",
    "\n",
    "![slide4](https://fowlerj9.github.io/esri-jay-img/Navigator%20for%20ArcGIS%20-%20Raleigh%202020/Slide4.PNG)\n",
    "\n",
    "---\n",
    "\n",
    "![slide5](https://fowlerj9.github.io/esri-jay-img/Navigator%20for%20ArcGIS%20-%20Raleigh%202020/Slide5.PNG)\n",
    "\n",
    "---\n",
    "\n",
    "![slide6](https://fowlerj9.github.io/esri-jay-img/Navigator%20for%20ArcGIS%20-%20Raleigh%202020/Slide6.PNG)\n",
    "\n",
    "---\n",
    "\n",
    "\n",
    "### Questions\n",
    "\n",
    "-   Generally, do you think Esri’s street map premium dataset is up to date enough to handle routing in Raleigh or would you need to be able to add in some custom roads (private roads, brand new subdivisions, etc…) for turn by turn directions?\n",
    "-   Roughly how many people will need turn by turn navigation? Are these people already a user type in ArcGIS (anything from viewer – creator)?\n",
    "-   Do you have any timelines we need to be aware of?\n",
    "\n",
    "---\n",
    "\n",
    "### Flexible options\n",
    "\n",
    "-   Navigator is flexible with integration and works totally offline\n",
    "  - Allow a user to open turn by turn directions to one stop\n",
    "  - Allow a user to open turn by turn directions to multiple stops\n",
    "    - Can re-order, optimize, add, and skip on the fly\n",
    "  - Allow a user to type in an address or POI and generate turn by turn directions \n",
    "  - Allow a user to access route layers from ArcGIS Online / Enterprise (Plan Route, Vehicle Routing Problem, Closest Facility)\n",
    "    "
   ]
  },
  {
   "cell_type": "markdown",
   "metadata": {},
   "source": [
    "# Read a list of stops from an Excel document and create and email a link that will open ArcGIS Navigator for Turn by Turn directions\n",
    "\n",
    "This notebook is specific to an Excel document provided by City of Raleigh that has a sequence column. The sequence is used for order of stops. However, you could alternatively include an optimize parameter and let Navigator do the route optimization if you prefer Navigator OR if you do not have a sequence.\n",
    "\n",
    "---\n",
    "\n",
    "## What we are doing\n",
    "\n",
    "### Get Data and sort by sequence\n",
    "- Read in excel\n",
    "- sort by sequence\n",
    "- print out stops\n",
    "\n",
    "---\n",
    "\n",
    "## What you need to do to make it work\n",
    "\n",
    "- [ ] download the xlsx from this repo and reference the file location below"
   ]
  },
  {
   "cell_type": "code",
   "execution_count": 8,
   "metadata": {},
   "outputs": [
    {
     "name": "stdout",
     "output_type": "stream",
     "text": [
      "1  -  282200 8505 E LAKE CT, 27613\n",
      "2  -  288300 8700 CLIFF TOP CT, 27613\n",
      "3  -  288900 8501 LAKEWOOD DR, 27613\n",
      "4  -  296800 8917 WOODVINE CT, 27613\n",
      "5  -  298700 8857 WOODYHILL RD, 27613\n",
      "6  -  300200 8817 TRAILING CEDAR DR, 27613\n",
      "7  -  303600 8801 RED OAK CT, 27613\n",
      "8  -  305000 9024 ONEAL RD, 27613\n",
      "9  -  306000 8805 KATHARINA CT, 27613\n"
     ]
    }
   ],
   "source": [
    "import pandas as pd\n",
    "import getpass\n",
    "\n",
    "df = pd.read_excel (r'C:\\Users\\jay6647\\OneDrive - Esri\\_JayFowlerDocuments\\J Projects Web - GitHub\\esri-projects-JupyterScripts\\NavigatorRoutes4HowardDemo_3653.xlsx', sheet_name='NavigatorRoutes4HowardDemo_3653',usecols=['Route','Address','ZipCode','Sequence','Field Activity Type','Priority.1','Priority'])\n",
    "df = df.sort_values(by=['Sequence'])\n",
    "stopIndex = 1\n",
    "for index, row in df.iterrows() :\n",
    "    print(stopIndex,\" - \",row['Sequence'],row['Address'])\n",
    "    stopIndex = stopIndex+1\n",
    "\n",
    "\n",
    "    "
   ]
  },
  {
   "cell_type": "markdown",
   "metadata": {},
   "source": [
    "## What we are doing\n",
    "\n",
    "### Build out Navigator URL with parameters and Print the URL\n",
    "\n",
    "- [Open Navigator from a link](https://doc.arcgis.com/en/navigator/android-phone/help/deploy.htm#ESRI_SECTION1_C30D73392D964D51A8B606128A8A6E8F)\n",
    "- Addresses and features must be query formatted and URL encoded (spaces can be encoded as + or %20).\n",
    "- **More Questions**\n",
    "  - Do we need to designate a consistent starting location? Or is geolocation good?\n",
    "  - Do we need to designate a consistent stopping location? There is not currently a parameter supported for stopping location or return to location. You could manually build this into the script and add it as the last stop if need be. This can cause issues if you are optimizing the list of stops in Navigator\n",
    "  - Do you want Navigator to optimize the route? Navigator can be used to optimize the route. The sequence column indicates you have already done this. However, you could play around with the optimize parameter if you want. The Navigator app also has an option to optimize once the driver has his list of stops open in the app\n",
    "    - To optimize with parameter, add in `+\"&optimize=true\"`\n",
    "    \n",
    "---\n",
    "    \n",
    "## What you need to do to make it work\n",
    "\n",
    "- [ ] Reference a different [itemID for the State's basemap](https://www.arcgis.com/home/group.html?id=5f430cab7f2b4cb5926bb9fe4e054ecc#overview) you are in if you are not in NC\n"
   ]
  },
  {
   "cell_type": "code",
   "execution_count": 9,
   "metadata": {},
   "outputs": [
    {
     "name": "stdout",
     "output_type": "stream",
     "text": [
      "https://navigator.arcgis.app?itemID=6892cd60f6c04df39dd4421b6dc00f48&stop=8505+E+LAKE+CT,+27613&stopname=8505+E+LAKE+CT,+27613&stop=8700+CLIFF+TOP+CT,+27613&stopname=8700+CLIFF+TOP+CT,+27613&stop=8501+LAKEWOOD+DR,+27613&stopname=8501+LAKEWOOD+DR,+27613&stop=8917+WOODVINE+CT,+27613&stopname=8917+WOODVINE+CT,+27613&stop=8857+WOODYHILL+RD,+27613&stopname=8857+WOODYHILL+RD,+27613&stop=8817+TRAILING+CEDAR+DR,+27613&stopname=8817+TRAILING+CEDAR+DR,+27613&stop=8801+RED+OAK+CT,+27613&stopname=8801+RED+OAK+CT,+27613&stop=9024+ONEAL+RD,+27613&stopname=9024+ONEAL+RD,+27613&stop=8805+KATHARINA+CT,+27613&stopname=8805+KATHARINA+CT,+27613&optimize=true\n"
     ]
    }
   ],
   "source": [
    "navigatorLink = \"https://navigator.arcgis.app?\"\n",
    "parameterName_ItemID = \"itemID\"\n",
    "parameterValue_ItemID = \"6892cd60f6c04df39dd4421b6dc00f48\"\n",
    "parameterName_Stop = \"stop\"\n",
    "parameterName_StopName = \"stopname\"\n",
    "navigatorLink = navigatorLink+parameterName_ItemID+\"=\"+parameterValue_ItemID+\"&\"\n",
    "\n",
    "for index, row in df.iterrows() :\n",
    "\n",
    "    tempVar = row['Address'].replace(\" \", \"+\")\n",
    "    tempVar2 = parameterName_Stop+\"=\"+tempVar+\"&\"+parameterName_StopName+\"=\"+tempVar+\"&\"\n",
    "    navigatorLink = navigatorLink + tempVar2\n",
    "\n",
    "navigatorLinkOptimized = navigatorLink+\"optimize=true\"\n",
    "print(navigatorLinkOptimized)"
   ]
  },
  {
   "cell_type": "markdown",
   "metadata": {},
   "source": [
    "## What we are doing\n",
    "\n",
    "### Send email notification with Navigator link for easy access to turn by turn directions in the field\n",
    "\n",
    "---\n",
    "\n",
    "\n",
    "## What you need to do to make it work\n",
    "\n",
    "- [ ] modify the `sender_email` and the `receiver_email` variables and enter your email password when prompted"
   ]
  },
  {
   "cell_type": "code",
   "execution_count": 10,
   "metadata": {},
   "outputs": [
    {
     "name": "stdout",
     "output_type": "stream",
     "text": [
      "Enter password········\n"
     ]
    }
   ],
   "source": [
    "import smtplib, ssl\n",
    "from email.mime.text import MIMEText\n",
    "from email.mime.multipart import MIMEMultipart\n",
    "\n",
    "sender_email = \"jay.l.fowler.e@gmail.com\"\n",
    "receiver_email = \"jay.l.fowler.e@gmail.com\"\n",
    "password = getpass.getpass('Enter password')\n",
    "\n",
    "message = MIMEMultipart(\"alternative\")\n",
    "message[\"Subject\"] = \"New Route\"\n",
    "message[\"From\"] = sender_email\n",
    "message[\"To\"] = receiver_email\n",
    "\n",
    "# Create the plain-text and HTML version of your message\n",
    "text = \"\"\"\\\n",
    "Hi,\n",
    "You have a new route ready:\"\"\"+navigatorLink \n",
    "html = \"\"\"\\\n",
    "<html>\n",
    "  <body>\n",
    "    <p>Hi,<br><br>\n",
    "       You have a new route ready:<br><br>\n",
    "       <a href=\"\"\"+navigatorLink+\"\"\">Open Turn by Turn Directions</a> OR<br><br>\n",
    "       <a href=\"\"\"+navigatorLinkOptimized+\"\"\">Open <b>Optimized</b> Turn by Turn Directions</a>\n",
    "    </p>\n",
    "  </body>\n",
    "</html>\n",
    "\"\"\"\n",
    "\n",
    "# Turn these into plain/html MIMEText objects\n",
    "part1 = MIMEText(text, \"plain\")\n",
    "part2 = MIMEText(html, \"html\")\n",
    "\n",
    "# Add HTML/plain-text parts to MIMEMultipart message\n",
    "# The email client will try to render the last part first\n",
    "message.attach(part1)\n",
    "message.attach(part2)\n",
    "\n",
    "# Create secure connection with server and send email\n",
    "context = ssl.create_default_context()\n",
    "with smtplib.SMTP_SSL(\"smtp.gmail.com\", 465, context=context) as server:\n",
    "    server.login(sender_email, password)\n",
    "    server.sendmail(\n",
    "        sender_email, receiver_email, message.as_string()\n",
    "    )"
   ]
  },
  {
   "cell_type": "code",
   "execution_count": null,
   "metadata": {},
   "outputs": [],
   "source": []
  }
 ],
 "metadata": {
  "kernelspec": {
   "display_name": "Python 3",
   "language": "python",
   "name": "python3"
  },
  "language_info": {
   "codemirror_mode": {
    "name": "ipython",
    "version": 3
   },
   "file_extension": ".py",
   "mimetype": "text/x-python",
   "name": "python",
   "nbconvert_exporter": "python",
   "pygments_lexer": "ipython3",
   "version": "3.8.3"
  }
 },
 "nbformat": 4,
 "nbformat_minor": 4
}
